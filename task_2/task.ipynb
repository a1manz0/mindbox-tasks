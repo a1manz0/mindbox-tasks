{
  "nbformat": 4,
  "nbformat_minor": 0,
  "metadata": {
    "colab": {
      "provenance": []
    },
    "kernelspec": {
      "name": "python3",
      "display_name": "Python 3"
    },
    "language_info": {
      "name": "python"
    }
  },
  "cells": [
    {
      "cell_type": "code",
      "source": [
        "!pip install pyspark"
      ],
      "metadata": {
        "colab": {
          "base_uri": "https://localhost:8080/"
        },
        "id": "gW0qCytWzWrm",
        "outputId": "17a25aad-75b8-4237-8f34-856632b29752"
      },
      "execution_count": 2,
      "outputs": [
        {
          "output_type": "stream",
          "name": "stdout",
          "text": [
            "Collecting pyspark\n",
            "  Downloading pyspark-3.5.1.tar.gz (317.0 MB)\n",
            "\u001b[2K     \u001b[90m━━━━━━━━━━━━━━━━━━━━━━━━━━━━━━━━━━━━━━━━\u001b[0m \u001b[32m317.0/317.0 MB\u001b[0m \u001b[31m4.6 MB/s\u001b[0m eta \u001b[36m0:00:00\u001b[0m\n",
            "\u001b[?25h  Preparing metadata (setup.py) ... \u001b[?25l\u001b[?25hdone\n",
            "Requirement already satisfied: py4j==0.10.9.7 in /usr/local/lib/python3.10/dist-packages (from pyspark) (0.10.9.7)\n",
            "Building wheels for collected packages: pyspark\n",
            "  Building wheel for pyspark (setup.py) ... \u001b[?25l\u001b[?25hdone\n",
            "  Created wheel for pyspark: filename=pyspark-3.5.1-py2.py3-none-any.whl size=317488490 sha256=170129fc537e755c0c15b3a59d408da2110d7edd5f444e33003440f73c159691\n",
            "  Stored in directory: /root/.cache/pip/wheels/80/1d/60/2c256ed38dddce2fdd93be545214a63e02fbd8d74fb0b7f3a6\n",
            "Successfully built pyspark\n",
            "Installing collected packages: pyspark\n",
            "Successfully installed pyspark-3.5.1\n"
          ]
        }
      ]
    },
    {
      "cell_type": "code",
      "execution_count": 82,
      "metadata": {
        "id": "l6a5gC2ayi4q"
      },
      "outputs": [],
      "source": [
        "# import lib\n",
        "from pyspark.sql import SparkSession"
      ]
    },
    {
      "cell_type": "code",
      "source": [
        "spark = SparkSession.builder \\\n",
        "    .appName(\"DataFrame_Test\") \\\n",
        "    .getOrCreate()\n",
        "\n",
        "# creating dataframe for products\n",
        "product = [(i, f'product{i}') for i in range(10)]\n",
        "product = spark.createDataFrame(\n",
        "    product,\n",
        "    [\"id\", \"product_name\"]\n",
        ")\n",
        "product.show()\n",
        "\n",
        "# creating dataframe for categories\n",
        "category = [(i, f'category{i}') for i in range(10)]\n",
        "category = spark.createDataFrame(\n",
        "    category,\n",
        "    [\"id\", \"category_name\"]\n",
        ")\n",
        "category.show()\n",
        "\n",
        "# creating connections between products and categories\n",
        "product_category = [\n",
        "    (1, 1),\n",
        "    (1, 3),\n",
        "    (2, 8),\n",
        "    (3, 1),\n",
        "    (3, 2),\n",
        "    (3, 3),\n",
        "    (4, 9),\n",
        "    (4, 6),\n",
        "    ]\n",
        "product_category = spark.createDataFrame(\n",
        "    product_category,\n",
        "    [\"product\", \"category\"]\n",
        ")\n",
        "product_category.show()"
      ],
      "metadata": {
        "colab": {
          "base_uri": "https://localhost:8080/"
        },
        "id": "QCV1yn1NzPAc",
        "outputId": "065ab631-c56f-491a-eafd-8adf02ec0124"
      },
      "execution_count": 83,
      "outputs": [
        {
          "output_type": "stream",
          "name": "stdout",
          "text": [
            "+---+------------+\n",
            "| id|product_name|\n",
            "+---+------------+\n",
            "|  0|    product0|\n",
            "|  1|    product1|\n",
            "|  2|    product2|\n",
            "|  3|    product3|\n",
            "|  4|    product4|\n",
            "|  5|    product5|\n",
            "|  6|    product6|\n",
            "|  7|    product7|\n",
            "|  8|    product8|\n",
            "|  9|    product9|\n",
            "+---+------------+\n",
            "\n",
            "+---+-------------+\n",
            "| id|category_name|\n",
            "+---+-------------+\n",
            "|  0|    category0|\n",
            "|  1|    category1|\n",
            "|  2|    category2|\n",
            "|  3|    category3|\n",
            "|  4|    category4|\n",
            "|  5|    category5|\n",
            "|  6|    category6|\n",
            "|  7|    category7|\n",
            "|  8|    category8|\n",
            "|  9|    category9|\n",
            "+---+-------------+\n",
            "\n",
            "+-------+--------+\n",
            "|product|category|\n",
            "+-------+--------+\n",
            "|      1|       1|\n",
            "|      1|       3|\n",
            "|      2|       8|\n",
            "|      3|       1|\n",
            "|      3|       2|\n",
            "|      3|       3|\n",
            "|      4|       9|\n",
            "|      4|       6|\n",
            "+-------+--------+\n",
            "\n"
          ]
        }
      ]
    },
    {
      "cell_type": "code",
      "source": [
        "def get_all_products_and_their_categories(product_category):\n",
        "  return product_category \\\n",
        "  .join(category, product_category.category ==  category.id, \"leftouter\") \\\n",
        "  .join(product, product_category.product ==  product.id, \"rightouter\") \\\n",
        "  .select(product.product_name.alias('product'), \\\n",
        "          category.category_name.alias('category'))\n",
        "\n",
        "\n",
        "get_all_products_and_their_categories(product_category).show(truncate=False)\n",
        "spark.stop()"
      ],
      "metadata": {
        "colab": {
          "base_uri": "https://localhost:8080/"
        },
        "id": "IOlItqPY7dAE",
        "outputId": "5fe7f680-ea96-47c6-86e9-42f91cbf3729"
      },
      "execution_count": 84,
      "outputs": [
        {
          "output_type": "stream",
          "name": "stdout",
          "text": [
            "+--------+---------+\n",
            "|product |category |\n",
            "+--------+---------+\n",
            "|product0|NULL     |\n",
            "|product1|category3|\n",
            "|product1|category1|\n",
            "|product3|category2|\n",
            "|product3|category3|\n",
            "|product3|category1|\n",
            "|product2|category8|\n",
            "|product4|category9|\n",
            "|product4|category6|\n",
            "|product7|NULL     |\n",
            "|product6|NULL     |\n",
            "|product9|NULL     |\n",
            "|product5|NULL     |\n",
            "|product8|NULL     |\n",
            "+--------+---------+\n",
            "\n"
          ]
        }
      ]
    }
  ]
}